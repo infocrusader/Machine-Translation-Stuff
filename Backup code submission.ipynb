{
 "cells": [
  {
   "cell_type": "code",
   "execution_count": 33,
   "metadata": {},
   "outputs": [],
   "source": [
    "import json #importing Json Reader\n",
    "import numpy as np\n",
    "import pandas as pd"
   ]
  },
  {
   "cell_type": "code",
   "execution_count": 34,
   "metadata": {},
   "outputs": [],
   "source": [
    "json_data=open('data.json').read()\n",
    "data = json.loads(json_data) #Reading data from Json file"
   ]
  },
  {
   "cell_type": "code",
   "execution_count": 35,
   "metadata": {},
   "outputs": [
    {
     "data": {
      "text/plain": [
       "[{'tr': 'bu adam', 'en': 'this man'},\n",
       " {'tr': 'bu kedi', 'en': 'this cat'},\n",
       " {'tr': 'bu iyi adam', 'en': 'this good man'},\n",
       " {'tr': 'bu iyi kedi', 'en': 'this good cat'},\n",
       " {'tr': 'iyi araba', 'en': 'good car'}]"
      ]
     },
     "execution_count": 35,
     "metadata": {},
     "output_type": "execute_result"
    }
   ],
   "source": [
    "data"
   ]
  },
  {
   "cell_type": "code",
   "execution_count": 36,
   "metadata": {},
   "outputs": [],
   "source": [
    "#pushing english and turkish sentences into arrays respectively\n",
    "english_sentences = []\n",
    "turkish_sentences = []\n",
    "for sent in data:\n",
    "        english_sentences.append(sent['en'])\n",
    "        turkish_sentences.append(sent['tr'])\n"
   ]
  },
  {
   "cell_type": "code",
   "execution_count": 37,
   "metadata": {},
   "outputs": [
    {
     "data": {
      "text/plain": [
       "['bu adam', 'bu kedi', 'bu iyi adam', 'bu iyi kedi', 'iyi araba']"
      ]
     },
     "execution_count": 37,
     "metadata": {},
     "output_type": "execute_result"
    }
   ],
   "source": [
    "turkish_sentences "
   ]
  },
  {
   "cell_type": "code",
   "execution_count": 38,
   "metadata": {},
   "outputs": [
    {
     "data": {
      "text/plain": [
       "['this man', 'this cat', 'this good man', 'this good cat', 'good car']"
      ]
     },
     "execution_count": 38,
     "metadata": {},
     "output_type": "execute_result"
    }
   ],
   "source": [
    "english_sentences"
   ]
  },
  {
   "cell_type": "code",
   "execution_count": 41,
   "metadata": {},
   "outputs": [],
   "source": [
    "#for i in range(len(english_sentences)):\n",
    "    #nuevo11 = english_sentences[i]\n",
    "   # print(nuevo11)\n",
    "   # nueve11 = nuevo11.split()\n",
    "   # print(nueve11)\n",
    "   # yeni11 = turkish_sentences[i]\n",
    "   # print(yeni11)\n",
    "   # yeni111 = yeni11.split()\n",
    "    #print(yeni111)"
   ]
  },
  {
   "cell_type": "code",
   "execution_count": 39,
   "metadata": {},
   "outputs": [],
   "source": [
    "#getting unique(unrepeated) words from the data and putting them into turkish and english arrays respectively\n",
    "unrepeated_turkish_words = []\n",
    "unrepeated_english_words = []\n",
    "for i in range(len(data)):\n",
    "    eng = data[i]['en'].split(' ') #get english sentence\n",
    "    trk = data[i]['tr'].split(' ')#get turkish sentence\n",
    "    \n",
    "    for j in range(len(trk)):#for all turkish sentences\n",
    "        if trk[j] not in unrepeated_turkish_words:\n",
    "            unrepeated_turkish_words.append(trk[j])#get word\n",
    "    for j in range(len(eng)):#for all english sentences\n",
    "        if eng[j] not in unrepeated_english_words:\n",
    "            unrepeated_english_words.append(eng[j])#get word"
   ]
  },
  {
   "cell_type": "code",
   "execution_count": 40,
   "metadata": {},
   "outputs": [
    {
     "data": {
      "text/plain": [
       "['bu', 'adam', 'kedi', 'iyi', 'araba']"
      ]
     },
     "execution_count": 40,
     "metadata": {},
     "output_type": "execute_result"
    }
   ],
   "source": [
    "unrepeated_turkish_words"
   ]
  },
  {
   "cell_type": "code",
   "execution_count": 41,
   "metadata": {},
   "outputs": [
    {
     "data": {
      "text/plain": [
       "['this', 'man', 'cat', 'good', 'car']"
      ]
     },
     "execution_count": 41,
     "metadata": {},
     "output_type": "execute_result"
    }
   ],
   "source": [
    "unrepeated_english_words"
   ]
  },
  {
   "cell_type": "code",
   "execution_count": 42,
   "metadata": {},
   "outputs": [],
   "source": [
    "unrepeated_turkish_words = list(unrepeated_turkish_words)#putting turkish words into a list"
   ]
  },
  {
   "cell_type": "code",
   "execution_count": 43,
   "metadata": {},
   "outputs": [
    {
     "data": {
      "text/plain": [
       "['bu', 'adam', 'kedi', 'iyi', 'araba']"
      ]
     },
     "execution_count": 43,
     "metadata": {},
     "output_type": "execute_result"
    }
   ],
   "source": [
    "unrepeated_turkish_words"
   ]
  },
  {
   "cell_type": "code",
   "execution_count": 44,
   "metadata": {},
   "outputs": [],
   "source": [
    "unrepeated_english_words = list(unrepeated_english_words)#putting english words into a list\n",
    "number_turkish_words = len(unrepeated_turkish_words)#number of turkish words"
   ]
  },
  {
   "cell_type": "code",
   "execution_count": 45,
   "metadata": {},
   "outputs": [],
   "source": [
    "from collections import defaultdict"
   ]
  },
  {
   "cell_type": "code",
   "execution_count": 46,
   "metadata": {},
   "outputs": [],
   "source": [
    "translation_probability = dict()#Initializing dictionary\n",
    "for en_word in unrepeated_english_words:\n",
    "    translation_probability[en_word] = dict()#open dictionary for all english words\n",
    "    \n",
    "    for tr_word in unrepeated_turkish_words:\n",
    "        translation_probability[en_word][tr_word] = 1 / number_turkish_words#T(eng|trk) is assigned such that all alignments are equally likely"
   ]
  },
  {
   "cell_type": "code",
   "execution_count": 47,
   "metadata": {},
   "outputs": [
    {
     "data": {
      "text/plain": [
       "{'this': {'bu': 0.2, 'adam': 0.2, 'kedi': 0.2, 'iyi': 0.2, 'araba': 0.2},\n",
       " 'man': {'bu': 0.2, 'adam': 0.2, 'kedi': 0.2, 'iyi': 0.2, 'araba': 0.2},\n",
       " 'cat': {'bu': 0.2, 'adam': 0.2, 'kedi': 0.2, 'iyi': 0.2, 'araba': 0.2},\n",
       " 'good': {'bu': 0.2, 'adam': 0.2, 'kedi': 0.2, 'iyi': 0.2, 'araba': 0.2},\n",
       " 'car': {'bu': 0.2, 'adam': 0.2, 'kedi': 0.2, 'iyi': 0.2, 'araba': 0.2}}"
      ]
     },
     "execution_count": 47,
     "metadata": {},
     "output_type": "execute_result"
    }
   ],
   "source": [
    "translation_probability"
   ]
  },
  {
   "cell_type": "code",
   "execution_count": 48,
   "metadata": {},
   "outputs": [
    {
     "name": "stdout",
     "output_type": "stream",
     "text": [
      "Iteration Number =  0\n",
      "s_total(e)\n",
      "{'good': 0.4, 'car': 0.4}\n",
      "Counts(e|f)\n",
      "{'this': {'bu': 1.6666666666666665, 'adam': 0.8333333333333333, 'kedi': 0.8333333333333333, 'iyi': 0.6666666666666666, 'araba': 0}, 'man': {'bu': 0.8333333333333333, 'adam': 0.8333333333333333, 'kedi': 0, 'iyi': 0.3333333333333333, 'araba': 0}, 'cat': {'bu': 0.8333333333333333, 'adam': 0, 'kedi': 0.8333333333333333, 'iyi': 0.3333333333333333, 'araba': 0}, 'good': {'bu': 0.6666666666666666, 'adam': 0.3333333333333333, 'kedi': 0.3333333333333333, 'iyi': 1.1666666666666665, 'araba': 0.5}, 'car': {'bu': 0, 'adam': 0, 'kedi': 0, 'iyi': 0.5, 'araba': 0.5}}\n",
      "total(f)\n",
      "{'bu': 4.000000000000001, 'adam': 1.9999999999999998, 'kedi': 1.9999999999999998, 'iyi': 3.0, 'araba': 1.0}\n",
      "t(e|f)\n",
      "{'this': {'bu': 0.4166666666666665, 'adam': 0.4166666666666667, 'kedi': 0.4166666666666667, 'iyi': 0.2222222222222222, 'araba': 0.0}, 'man': {'bu': 0.20833333333333326, 'adam': 0.4166666666666667, 'kedi': 0.0, 'iyi': 0.1111111111111111, 'araba': 0.0}, 'cat': {'bu': 0.20833333333333326, 'adam': 0.0, 'kedi': 0.4166666666666667, 'iyi': 0.1111111111111111, 'araba': 0.0}, 'good': {'bu': 0.16666666666666663, 'adam': 0.16666666666666669, 'kedi': 0.16666666666666669, 'iyi': 0.38888888888888884, 'araba': 0.5}, 'car': {'bu': 0.0, 'adam': 0.0, 'kedi': 0.0, 'iyi': 0.16666666666666666, 'araba': 0.5}}\n",
      "Iteration Number =  1\n",
      "s_total(e)\n",
      "{'good': 0.8888888888888888, 'car': 0.6666666666666666}\n",
      "Counts(e|f)\n",
      "{'this': {'bu': 1.7894736842105259, 'adam': 0.8947368421052634, 'kedi': 0.8947368421052634, 'iyi': 0.4210526315789474, 'araba': 0}, 'man': {'bu': 0.6163522012578615, 'adam': 1.2327044025157234, 'kedi': 0, 'iyi': 0.1509433962264151, 'araba': 0}, 'cat': {'bu': 0.6163522012578615, 'adam': 0, 'kedi': 1.2327044025157234, 'iyi': 0.1509433962264151, 'araba': 0}, 'good': {'bu': 0.4615384615384615, 'adam': 0.23076923076923084, 'kedi': 0.23076923076923084, 'iyi': 1.5144230769230769, 'araba': 0.5625}, 'car': {'bu': 0, 'adam': 0, 'kedi': 0, 'iyi': 0.25, 'araba': 0.75}}\n",
      "total(f)\n",
      "{'bu': 3.483716548264711, 'adam': 2.3582104753902176, 'kedi': 2.3582104753902176, 'iyi': 2.4873625009548546, 'araba': 1.3125}\n",
      "t(e|f)\n",
      "{'this': {'bu': 0.5136679920477136, 'adam': 0.3794134796035157, 'kedi': 0.3794134796035157, 'iyi': 0.16927674652058666, 'araba': 0.0}, 'man': {'bu': 0.17692375160799903, 'adam': 0.5227287451141296, 'kedi': 0.0, 'iyi': 0.06068411667719144, 'araba': 0.0}, 'cat': {'bu': 0.17692375160799903, 'adam': 0.0, 'kedi': 0.5227287451141296, 'iyi': 0.06068411667719144, 'araba': 0.0}, 'good': {'bu': 0.13248450473628814, 'adam': 0.09785777528235473, 'kedi': 0.09785777528235473, 'iyi': 0.6088469518784321, 'araba': 0.42857142857142855}, 'car': {'bu': 0.0, 'adam': 0.0, 'kedi': 0.0, 'iyi': 0.10050806824659832, 'araba': 0.5714285714285714}}\n",
      "Iteration Number =  2\n",
      "s_total(e)\n",
      "{'good': 1.0374183804498607, 'car': 0.6719366396751697}\n",
      "Counts(e|f)\n",
      "{'this': {'bu': 2.117360782703595, 'adam': 0.7819790551276673, 'kedi': 0.7819790551276673, 'iyi': 0.31868110704107044, 'araba': 0}, 'man': {'bu': 0.4855650996568207, 'adam': 1.4346227281976287, 'kedi': 0, 'iyi': 0.07981217214555053, 'araba': 0}, 'cat': {'bu': 0.4855650996568207, 'adam': 0, 'kedi': 1.4346227281976287, 'iyi': 0.07981217214555053, 'araba': 0}, 'good': {'bu': 0.31574405318998927, 'adam': 0.11660990341968164, 'kedi': 0.11660990341968164, 'iyi': 2.037922745560202, 'araba': 0.41311339441044514}, 'car': {'bu': 0, 'adam': 0, 'kedi': 0, 'iyi': 0.14957968104728792, 'araba': 0.8504203189527121}}\n",
      "total(f)\n",
      "{'bu': 3.404235035207226, 'adam': 2.3332116867449777, 'kedi': 2.3332116867449777, 'iyi': 2.6658078779396615, 'araba': 1.2635337133631572}\n",
      "t(e|f)\n",
      "{'this': {'bu': 0.6219784359203931, 'adam': 0.33515135363417986, 'kedi': 0.33515135363417986, 'iyi': 0.11954391375246869, 'araba': 0.0}, 'man': {'bu': 0.14263559790526123, 'adam': 0.6148703678914987, 'kedi': 0.0, 'iyi': 0.029939206349422088, 'araba': 0.0}, 'cat': {'bu': 0.14263559790526123, 'adam': 0.0, 'kedi': 0.6148703678914987, 'iyi': 0.029939206349422088, 'araba': 0.0}, 'good': {'bu': 0.09275036826908427, 'adam': 0.049978278474321396, 'kedi': 0.049978278474321396, 'iyi': 0.7644672230225621, 'araba': 0.3269508284910405}, 'car': {'bu': 0.0, 'adam': 0.0, 'kedi': 0.0, 'iyi': 0.0561104505261251, 'araba': 0.6730491715089595}}\n",
      "Iteration Number =  3\n",
      "s_total(e)\n",
      "{'good': 1.0914180515136027, 'car': 0.7291596220350846}\n",
      "Counts(e|f)\n",
      "{'this': {'bu': 2.4550445258615605, 'adam': 0.66144696387834, 'kedi': 0.66144696387834, 'iyi': 0.22206154638175946, 'araba': 0}, 'man': {'bu': 0.3694335160857941, 'adam': 1.5925457970036203, 'kedi': 0, 'iyi': 0.0380206869105855, 'araba': 0}, 'cat': {'bu': 0.3694335160857941, 'adam': 0, 'kedi': 1.5925457970036203, 'iyi': 0.0380206869105855, 'araba': 0}, 'good': {'bu': 0.20447705145088765, 'adam': 0.05509094578132775, 'kedi': 0.05509094578132775, 'iyi': 2.3857758921647667, 'araba': 0.2995651648216903}, 'car': {'bu': 0, 'adam': 0, 'kedi': 0, 'iyi': 0.0769522184587249, 'araba': 0.9230477815412752}}\n",
      "total(f)\n",
      "{'bu': 3.3983886094840363, 'adam': 2.309083706663288, 'kedi': 2.309083706663288, 'iyi': 2.760831030826422, 'araba': 1.2226129463629656}\n",
      "t(e|f)\n",
      "{'this': {'bu': 0.722414299238809, 'adam': 0.28645430305086494, 'kedi': 0.28645430305086494, 'iyi': 0.08043286383784522, 'araba': 0.0}, 'man': {'bu': 0.10870843759739524, 'adam': 0.6896873389249748, 'kedi': 0.0, 'iyi': 0.013771464637299611, 'araba': 0.0}, 'cat': {'bu': 0.10870843759739524, 'adam': 0.0, 'kedi': 0.6896873389249748, 'iyi': 0.013771464637299611, 'araba': 0.0}, 'good': {'bu': 0.060168825566400595, 'adam': 0.023858358024160246, 'kedi': 0.023858358024160246, 'iyi': 0.8641513607772704, 'araba': 0.2450204422526672}, 'car': {'bu': 0.0, 'adam': 0.0, 'kedi': 0.0, 'iyi': 0.027872846110285194, 'araba': 0.7549795577473327}}\n",
      "Iteration Number =  4\n",
      "s_total(e)\n",
      "{'good': 1.1091718030299376, 'car': 0.7828524038576179}\n",
      "Counts(e|f)\n",
      "{'this': {'bu': 2.7585084725426485, 'adam': 0.5469068253457273, 'kedi': 0.5469068253457273, 'iyi': 0.14767787676589678, 'araba': 0}, 'man': {'bu': 0.2700084012159826, 'adam': 1.7130351593471893, 'kedi': 0, 'iyi': 0.01695643943682799, 'araba': 0}, 'cat': {'bu': 0.2700084012159826, 'adam': 0, 'kedi': 1.7130351593471893, 'iyi': 0.01695643943682799, 'araba': 0}, 'good': {'bu': 0.12691454773745445, 'adam': 0.025162305312515874, 'kedi': 0.025162305312515874, 'iyi': 2.6018568828609365, 'araba': 0.22090395877657726}, 'car': {'bu': 0, 'adam': 0, 'kedi': 0, 'iyi': 0.03560421603476943, 'araba': 0.9643957839652306}}\n",
      "total(f)\n",
      "{'bu': 3.4254398227120686, 'adam': 2.2851042900054326, 'kedi': 2.2851042900054326, 'iyi': 2.8190518545352585, 'araba': 1.185299742741808}\n",
      "t(e|f)\n",
      "{'this': {'bu': 0.8053005206083633, 'adam': 0.23933560832990564, 'kedi': 0.23933560832990564, 'iyi': 0.05238565460522278, 'araba': 0.0}, 'man': {'bu': 0.07882444742590902, 'adam': 0.7496529444365608, 'kedi': 0.0, 'iyi': 0.006014944141431334, 'araba': 0.0}, 'cat': {'bu': 0.07882444742590902, 'adam': 0.0, 'kedi': 0.7496529444365608, 'iyi': 0.006014944141431334, 'araba': 0.0}, 'good': {'bu': 0.037050584539818514, 'adam': 0.011011447233533509, 'kedi': 0.011011447233533509, 'iyi': 0.9229546021564303, 'araba': 0.18636970110664777}, 'car': {'bu': 0.0, 'adam': 0.0, 'kedi': 0.0, 'iyi': 0.012629854955484332, 'araba': 0.8136302988933521}}\n"
     ]
    }
   ],
   "source": [
    "total_iterations = 5\n",
    "for i in range(total_iterations):\n",
    "    count_e_given_f = dict() #intialaizing counts and totals dictis\n",
    "    total_f = dict()\n",
    "    print(\"Iteration Number = \", i)\n",
    "    #initialize\n",
    "    for en_word in unrepeated_english_words:\n",
    "        count_e_given_f[en_word] = dict()#open a counts dictionary for all english words\n",
    "        for tr_word in unrepeated_turkish_words:\n",
    "            count_e_given_f[en_word][tr_word] = 0 #set C(eng|turk) = 0 for each iteration\n",
    "            #  Setting up total(f) = 0 for all f\n",
    "    for tr_word in unrepeated_turkish_words:\n",
    "        total_f[tr_word] = 0\n",
    "        \n",
    "                #do for all sentence pairs\n",
    "    \n",
    "    for j in range(len(english_sentences)):#for all english sentences\n",
    "        eng_sent = english_sentences[j]#get sentence by index\n",
    "        eng_sent = eng_sent.split()#split sentence to get words\n",
    "        trk_sent = turkish_sentences[j]#get corresponding turkish sentence\n",
    "        trk_sent = trk_sent.split()#split to get words\n",
    "\n",
    "         # Computing Normalisation\n",
    "       \n",
    "        s_total = dict() #initializing dict\n",
    "        for e in eng_sent: #for every words in english sentence\n",
    "            #print(e)\n",
    "            s_total[e] = 0 #set value to 0 for each iteration\n",
    "            for f in trk_sent:# fro every word in turkish sentence\n",
    "                #assign the sum of the values of the translation probability e given the various values for f,this is essentially\n",
    "                #computing P(e|a,f)\n",
    "                #print(f)\n",
    "                s_total[e] += translation_probability[e][f]\n",
    "                #print(s_total)\n",
    "        \n",
    "        \n",
    "        #collecting counts        \n",
    "        for e in eng_sent: #for word in english sentence\n",
    "            #print(e)\n",
    "            for f in trk_sent:#for words in turkish sentnce\n",
    "                #print(f)\n",
    "                #Count(eng|trk) is equal to T(eng|trk) divided by P(eng|a,turk) and summed over for all values(words) of trk\n",
    "                count_e_given_f[e][f] += translation_probability[e][f] / s_total[e]  #This division Computes P(a|e,f)\n",
    "                total_f[f] += translation_probability[e][f] / s_total[e] #same is done to get counts for all turkish words\n",
    "                #print(count_e_given_f)\n",
    "                #print(total_f)\n",
    "                \n",
    "\n",
    "                 #this section estimates probabilities           \n",
    "    for f in unrepeated_turkish_words: #for each unique turkish word \n",
    "        for e in unrepeated_english_words:#for each unique english word \n",
    "            # update T(eng|trk) with the result of Count(eng|trk) divided by Count(trk)\n",
    "            # for example T(this|bu) = Count(this|bu){evidence that this translates to bu} / count(bu){total number of evidence for word bu}\n",
    "            translation_probability[e][f] = count_e_given_f[e][f] / total_f[f]\n",
    "            #print(translation_probability[e][f], i)\n",
    "            #print(\"Iteration Number = \", i)\n",
    "    print(\"s_total(e)\")\n",
    "    print(s_total)\n",
    "    print(\"Counts(e|f)\")\n",
    "    print(count_e_given_f)\n",
    "    print(\"total(f)\")\n",
    "    print(total_f)\n",
    "    print(\"t(e|f)\")\n",
    "    print(translation_probability)\n",
    "\n",
    "      "
   ]
  },
  {
   "cell_type": "code",
   "execution_count": 17,
   "metadata": {},
   "outputs": [
    {
     "data": {
      "text/plain": [
       "{'this': {'bu': 0.8053005206083633,\n",
       "  'adam': 0.23933560832990564,\n",
       "  'kedi': 0.23933560832990564,\n",
       "  'iyi': 0.05238565460522278,\n",
       "  'araba': 0.0},\n",
       " 'man': {'bu': 0.07882444742590902,\n",
       "  'adam': 0.7496529444365608,\n",
       "  'kedi': 0.0,\n",
       "  'iyi': 0.006014944141431334,\n",
       "  'araba': 0.0},\n",
       " 'cat': {'bu': 0.07882444742590902,\n",
       "  'adam': 0.0,\n",
       "  'kedi': 0.7496529444365608,\n",
       "  'iyi': 0.006014944141431334,\n",
       "  'araba': 0.0},\n",
       " 'good': {'bu': 0.037050584539818514,\n",
       "  'adam': 0.011011447233533509,\n",
       "  'kedi': 0.011011447233533509,\n",
       "  'iyi': 0.9229546021564303,\n",
       "  'araba': 0.18636970110664777},\n",
       " 'car': {'bu': 0.0,\n",
       "  'adam': 0.0,\n",
       "  'kedi': 0.0,\n",
       "  'iyi': 0.012629854955484332,\n",
       "  'araba': 0.8136302988933521}}"
      ]
     },
     "execution_count": 17,
     "metadata": {},
     "output_type": "execute_result"
    }
   ],
   "source": [
    "translation_probability"
   ]
  },
  {
   "cell_type": "code",
   "execution_count": 18,
   "metadata": {},
   "outputs": [],
   "source": [
    "#import NLTK and IBMModel1 Module\n",
    "import nltk\n",
    "from nltk.translate import AlignedSent, IBMModel1"
   ]
  },
  {
   "cell_type": "code",
   "execution_count": 19,
   "metadata": {},
   "outputs": [
    {
     "name": "stdout",
     "output_type": "stream",
     "text": [
      "[AlignedSent(['bu', 'adam'], ['this', 'man'], Alignment([])), AlignedSent(['bu', 'kedi'], ['this', 'cat'], Alignment([])), AlignedSent(['bu', 'iyi', 'adam'], ['this', 'good', 'man'], Alignment([])), AlignedSent(['bu', 'iyi', 'kedi'], ['this', 'good', 'cat'], Alignment([])), AlignedSent(['iyi', 'araba'], ['good', 'car'], Alignment([]))]\n"
     ]
    }
   ],
   "source": [
    "bitext= []\n",
    "#loading in equivalent aligned sentences aligned \n",
    "bitext.append(AlignedSent([\"bu\",\"adam\"],\n",
    "[\"this\",\"man\"]))\n",
    "bitext.append(AlignedSent([\"bu\", \"kedi\"],\n",
    "[\"this\", \"cat\"]))\n",
    "bitext.append(AlignedSent([\"bu\", \"iyi\", \"adam\"],\n",
    "[\"this\", \"good\", \"man\"]))\n",
    "bitext.append(AlignedSent([\"bu\", \"iyi\", \"kedi\"], [\"this\", \"good\", \"cat\"]))\n",
    "bitext.append(AlignedSent([\"iyi\", \"araba\"], [\"good\", \"car\"]))\n",
    "print(bitext)\n",
    "myIBM = IBMModel1(bitext,5)# 5 iterations"
   ]
  },
  {
   "cell_type": "code",
   "execution_count": 20,
   "metadata": {},
   "outputs": [
    {
     "name": "stdout",
     "output_type": "stream",
     "text": [
      "0.7378729536520211\n",
      "0.8160370095326962\n",
      "0.8160370095326962\n",
      "0.9209954720615414\n",
      "0.8610884003804863\n"
     ]
    }
   ],
   "source": [
    "#print translation probabilities\n",
    "print(myIBM.translation_table[\"bu\"][\"this\"])\n",
    "print(myIBM.translation_table[\"adam\"][\"man\"])\n",
    "print(myIBM.translation_table[\"kedi\"][\"cat\"])\n",
    "print(myIBM.translation_table[\"iyi\"][\"good\"])\n",
    "print(myIBM.translation_table[\"araba\"][\"car\"])\n"
   ]
  },
  {
   "cell_type": "code",
   "execution_count": null,
   "metadata": {},
   "outputs": [],
   "source": []
  }
 ],
 "metadata": {
  "kernelspec": {
   "display_name": "Python 3",
   "language": "python",
   "name": "python3"
  },
  "language_info": {
   "codemirror_mode": {
    "name": "ipython",
    "version": 3
   },
   "file_extension": ".py",
   "mimetype": "text/x-python",
   "name": "python",
   "nbconvert_exporter": "python",
   "pygments_lexer": "ipython3",
   "version": "3.7.4"
  }
 },
 "nbformat": 4,
 "nbformat_minor": 2
}
